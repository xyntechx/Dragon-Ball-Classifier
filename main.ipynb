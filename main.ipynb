{
  "nbformat": 4,
  "nbformat_minor": 0,
  "metadata": {
    "colab": {
      "name": "main.ipynb",
      "provenance": [],
      "collapsed_sections": []
    },
    "kernelspec": {
      "name": "python3",
      "display_name": "Python 3"
    },
    "language_info": {
      "name": "python"
    },
    "accelerator": "GPU",
    "gpuClass": "standard"
  },
  "cells": [
    {
      "cell_type": "markdown",
      "source": [
        "# Dragon Ball Classifier\n",
        "An image classification model for Dragon Ball characters."
      ],
      "metadata": {
        "id": "JYNnc8KTdIPv"
      }
    },
    {
      "cell_type": "code",
      "execution_count": null,
      "metadata": {
        "id": "OQ_9eudGc1Af"
      },
      "outputs": [],
      "source": [
        "# Install dependencies\n",
        "\n",
        "!pip uninstall \"torchtext\" \"torchaudio\"\n",
        "!pip install \"torch==1.4.0\" \"torchvision==0.5.0\"\n",
        "from fastai.vision import *\n",
        "import os"
      ]
    },
    {
      "cell_type": "markdown",
      "source": [
        "# Data Preparation\n",
        "Upload the `dragonball` folder in [`xyntechx/Dragon-Ball-Classifier`](https://github.com/xyntechx/Dragon-Ball-Classifier) to the `Files` sidepanel of Google Colab.\n",
        "\n",
        "P.S. The model will only be trained to classify Vegeta, Goku, Gohan, and Trunks, so feel free to include the `.csv` files of image URLs of other characters in the `dragonball` folder."
      ],
      "metadata": {
        "id": "HgcK-yuT-enK"
      }
    },
    {
      "cell_type": "code",
      "source": [
        "characters = [\"vegeta\", \"goku\", \"gohan\", \"trunks\"]"
      ],
      "metadata": {
        "id": "BzLvtJtbWAev"
      },
      "execution_count": 2,
      "outputs": []
    },
    {
      "cell_type": "code",
      "source": [
        "# Create subfolders in /dragonball\n",
        "\n",
        "for character in characters:\n",
        "  path = Path(\"dragonball\")\n",
        "  dest = path/character\n",
        "  dest.mkdir(parents=True, exist_ok=True)"
      ],
      "metadata": {
        "id": "y3-8NMGIVMHU"
      },
      "execution_count": 3,
      "outputs": []
    },
    {
      "cell_type": "code",
      "source": [
        "# Download images for training\n",
        "\n",
        "for character in characters:\n",
        "  path = Path(\"dragonball\")\n",
        "  csv_file = Path(\"dragonball/\" + character + \".csv\")\n",
        "  dest = path/character\n",
        "  download_images(csv_file, dest, max_pics=100)"
      ],
      "metadata": {
        "id": "PnbnxbzkoCWR"
      },
      "execution_count": null,
      "outputs": []
    },
    {
      "cell_type": "code",
      "source": [
        "# Remove unopenable images\n",
        "\n",
        "for character in characters:\n",
        "  path = Path(\"dragonball\")\n",
        "  verify_images(path/character, delete=True, max_size=500)"
      ],
      "metadata": {
        "id": "JYqggqmbpWQE"
      },
      "execution_count": null,
      "outputs": []
    },
    {
      "cell_type": "markdown",
      "source": [
        "# Model Training"
      ],
      "metadata": {
        "id": "MjNEvFQ1-98p"
      }
    },
    {
      "cell_type": "code",
      "source": [
        "data = ImageDataBunch.from_folder(path, train=\".\", valid_pct=0.2, ds_tfms=get_transforms(), size=224, num_workers=4).normalize(imagenet_stats)\n",
        "learner = cnn_learner(data, models.resnet101, metrics=accuracy)\n",
        "learner.fit_one_cycle(20)"
      ],
      "metadata": {
        "id": "jBBmAOepp9he"
      },
      "execution_count": null,
      "outputs": []
    },
    {
      "cell_type": "markdown",
      "source": [
        "# Result Interpretation"
      ],
      "metadata": {
        "id": "MjkqDNf7_65-"
      }
    },
    {
      "cell_type": "code",
      "source": [
        "interp = ClassificationInterpretation.from_learner(learner)\n",
        "interp.plot_confusion_matrix()"
      ],
      "metadata": {
        "id": "jwD6SetL_6LI"
      },
      "execution_count": null,
      "outputs": []
    },
    {
      "cell_type": "markdown",
      "source": [
        "# Model Exportation\n",
        "A `.pkl` file will be created for you to (optionally) save."
      ],
      "metadata": {
        "id": "7-vrFj_TAVhH"
      }
    },
    {
      "cell_type": "code",
      "source": [
        "learner.export()"
      ],
      "metadata": {
        "id": "RzVGZ5J9ASNa"
      },
      "execution_count": 21,
      "outputs": []
    },
    {
      "cell_type": "markdown",
      "source": [
        "# Model Usage\n",
        "Upload the `test` folder in [`xyntechx/Dragon-Ball-Classifier`](https://github.com/xyntechx/Dragon-Ball-Classifier) to the `Files` sidepanel of Google Colab.\n",
        "\n",
        "P.S. Unless you have modified the dataset and the above code to include more characters, the model will only be able to classify Vegeta, Goku, Gohan, and Trunks."
      ],
      "metadata": {
        "id": "5m8Z8gCPPVMw"
      }
    },
    {
      "cell_type": "code",
      "source": [
        "model = load_learner(path)\n",
        "\n",
        "for i in range(4):\n",
        "  img_path = \"test/\" + str(i+1) + \".png\"\n",
        "  img = open_image(img_path)\n",
        "  pred_class, pred_idx, outputs = model.predict(img)\n",
        "  \n",
        "  print(pred_class)\n",
        "  print(data.classes)\n",
        "  print(outputs)"
      ],
      "metadata": {
        "id": "ngVB-rM-CTf8"
      },
      "execution_count": null,
      "outputs": []
    }
  ]
}